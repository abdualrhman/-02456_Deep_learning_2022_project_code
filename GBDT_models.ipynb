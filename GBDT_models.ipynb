{
 "cells": [
  {
   "cell_type": "markdown",
   "metadata": {},
   "source": [
    "The following are Tree based models with the hyperparameters for grid search"
   ]
  },
  {
   "cell_type": "code",
   "execution_count": 1,
   "metadata": {},
   "outputs": [],
   "source": [
    "import xgboost as xg\n",
    "from sklearn.model_selection import train_test_split\n",
    "from sklearn.metrics import mean_squared_error as MSE\n",
    "from sklearn.metrics import accuracy_score, r2_score\n",
    "from DataModel import DataModel, TensorDataSet, TensorTabDataSet\n",
    "from sklearn.model_selection import GridSearchCV\n",
    "from sklearn.model_selection import GridSearchCV\n",
    "from sklearn.ensemble import RandomForestClassifier\n",
    "from sklearn.metrics import accuracy_score\n",
    "from sklearn.svm import SVC\n",
    "from sklearn.ensemble import RandomForestRegressor, AdaBoostRegressor, GradientBoostingRegressor\n",
    "from sklearn.linear_model import LinearRegression\n",
    "\n",
    "dm = DataModel(encoding_type='label')\n",
    "\n",
    "train_X, train_y = dm.get_train_data()\n",
    "\n",
    "test_X, test_y = dm.get_test_data()\n",
    "\n",
    "\n",
    "\n",
    "\n"
   ]
  },
  {
   "attachments": {},
   "cell_type": "markdown",
   "metadata": {},
   "source": [
    "First: some data analysis and visualisation:"
   ]
  },
  {
   "cell_type": "code",
   "execution_count": null,
   "metadata": {},
   "outputs": [],
   "source": [
    "#Boxplots of discharge time for each voyage_id (i.e. each vessel) and each parkinng place:\n",
    "import seaborn as sns\n",
    "\n",
    "#box plot distribution for discharg time for every voyage id\n",
    "sns.catplot(data=data[data[\"discharge_time_minutes\"] < 350 ], x=str(\"voyage_id\"), y=\"discharge_time_minutes\", kind= \"box\",height=15, aspect=1.5)\n",
    "plt.ylim(0, 350)\n",
    "plt.xticks(rotation = 90)\n",
    "plt.xlabel('Vessel Id', fontsize = 35, weight='bold')\n",
    "plt.yticks(fontsize=30, weight='bold')\n",
    "plt.ylabel('Discharge time [min]', fontsize= 35, weight='bold')\n",
    "plt.show()"
   ]
  },
  {
   "cell_type": "code",
   "execution_count": null,
   "metadata": {},
   "outputs": [],
   "source": [
    "#plot discharg time for each voyage id. \n",
    "import seaborn as sns\n",
    "sns.catplot(data=data, x=str(\"voyage_id\"), y=\"discharge_time_minutes\",height=10, aspect=1.5)\n",
    "plt.ylim(0, 3000)\n",
    "plt.xticks(rotation = 90)\n",
    "plt.xlabel('Vessel Id', fontsize = 20, weight='bold')\n",
    "plt.yticks(fontsize=20, weight='bold')\n",
    "plt.ylabel('Discharge time [min]', fontsize= 20, weight='bold')\n",
    "plt.show"
   ]
  },
  {
   "cell_type": "code",
   "execution_count": null,
   "metadata": {},
   "outputs": [],
   "source": [
    "from dython.nominal import associations\n",
    "dm = DataModel(encoding_type='label')\n",
    "\n",
    "dd = dm.get_df()\n",
    "dd.drop('unitype_id', axis=1, inplace=True)\n",
    "print(dd.shape)\n",
    "# prepare data matrix for corrolation \n",
    "columns_naming = ['Length', 'Gross Weight', 'Place on Board', 'Parking Place',  'Priority', 'Hazardous', 'Reefer', 'Discharge Time [min]', 'Vessel Deck', 'Deck Stowed Order']\n",
    "\n",
    "# prepare correlation function \n",
    "cor_df = dd.corr(method = \"pearson\").round(2)\n",
    "print(cor_df.shape, cor_df)\n",
    "\n",
    "# Prepare plot \n",
    "# Step 1: Initiating a fig and axis object\n",
    "fig, ax = plt.subplots(figsize = (12, 10))\n",
    "# Step 2: Create a plot\n",
    "cax = ax.imshow(cor_df.values, interpolation='nearest', cmap = 'Reds', vmin = -1, vmax = 1)\n",
    "# Step 3: Set axis tick labels \n",
    "ax.set_xticks(ticks = range(len(dd.columns)),\n",
    "              labels = columns_naming )\n",
    "ax.set_yticks(ticks = range(len(dd.columns)),\n",
    "              labels = columns_naming )\n",
    "# Step 4: Resize the tick parameters\n",
    "ax.tick_params(axis = \"x\", labelsize = 12, labelrotation = 90)\n",
    "ax.tick_params(axis = \"y\", labelsize = 12, labelrotation = 0)\n",
    "# Step 5: Adding a color bar\n",
    "fig.colorbar(cax).ax.tick_params(labelsize = 12)\n",
    "# Step 6: Add annotation\n",
    "for (x, y), t in np.ndenumerate(cor_df):\n",
    "    ax.annotate(\"{:.2f}\".format(t),\n",
    "                 xy = (x, y),\n",
    "                 va = \"center\", # vertical position\n",
    "                 ha = \"center\") # horizontal position"
   ]
  },
  {
   "cell_type": "code",
   "execution_count": null,
   "metadata": {},
   "outputs": [],
   "source": [
    "#PCA Analysis\n",
    "import plotly.express as px\n",
    "pca = PCA(4)\n",
    "pca.fit(X)\n",
    "print(pca.explained_variance_ratio_)\n",
    "# X = pca.transform(X)\n",
    "exp_var_cumul = np.cumsum(pca.explained_variance_ratio_)"
   ]
  },
  {
   "attachments": {},
   "cell_type": "markdown",
   "metadata": {},
   "source": [
    "Second: From here GBDT modeling start. Grid search of the following models is iterated for different parameters. "
   ]
  },
  {
   "cell_type": "code",
   "execution_count": 4,
   "metadata": {},
   "outputs": [
    {
     "name": "stdout",
     "output_type": "stream",
     "text": [
      "best parameters {'colsample_bylevel': 0.33, 'colsample_bytree': 1, 'learning_rate': 0.01, 'max_depth': 10, 'n_estimators': 1000, 'objective': 'reg:squarederror', 'subsample': 1}\n",
      "best score 0.4407750654600271\n"
     ]
    }
   ],
   "source": [
    "# Grid search of hyperparameters for (xgbooster model)\n",
    "# Define estimator \n",
    "xgb_r = xg.XGBRegressor( seed = 123)\n",
    "# Define Grid \n",
    "param_grid = { \n",
    "    'objective': ['reg:squarederror'],\n",
    "    'n_estimators': [ 2000, 1000],\n",
    "    'learning_rate': [0.01],\n",
    "    'max_depth' : [100, 10], \n",
    "    'colsample_bylevel': [0.33, 1] ,\n",
    "    'subsample' : [0.5,1,0.33],\n",
    "    'colsample_bytree' : [ 0.33, 1] \n",
    "}\n",
    "\n",
    "# Instantiation\n",
    "xgb_r_grid_src = GridSearchCV(estimator = xgb_r , param_grid=param_grid)\n",
    "\n",
    "# Fitting Model \n",
    "xgb_r_grid_src.fit(train_X, train_y)\n",
    "\n",
    "# Best parameters \n",
    "print('best parameters',xgb_r_grid_src.best_params_)\n",
    "# Best score\n",
    "print('best score', xgb_r_grid_src.best_score_)"
   ]
  },
  {
   "cell_type": "code",
   "execution_count": null,
   "metadata": {},
   "outputs": [],
   "source": [
    "# Grid search of hyperparameters for (xgbooster model)\n",
    "# Define estimator \n",
    "xgb_r = xg.XGBRegressor( seed = 123)\n",
    "# Define Grid \n",
    "param_grid = { \n",
    "    'objective': ['reg:squarederror','reg:squaredlogerror','reg:pseudohubererror'],\n",
    "    'n_estimators': [1,10,100,1000,10000],\n",
    "    'learning_rate': [0.01, 0.1, 0.25, 0.5, 0.75, 1],\n",
    "    'max_depth' : [1,10,100,1000,10000,30000], \n",
    "    'colsample_bylevel': [0.1,0.25,0.5,0.75,1] ,\n",
    "    'subsample' : [0.1,0.25,0.5,0.75,1],\n",
    "    'colsample_bytree' : [0.1,0.25,0.5,0.75,1] \n",
    "}\n",
    "\n",
    "\n",
    "# Instantiation\n",
    "xgb_r_grid_src = GridSearchCV(estimator = xgb_r , param_grid=param_grid)\n",
    "\n",
    "# Fitting Model \n",
    "xgb_r_grid_src.fit(train_X, train_y)\n",
    "\n",
    "# Best parameters \n",
    "print('best parameters',xgb_r_grid_src.best_params_)\n",
    "# Best score\n",
    "print('best score', xgb_r_grid_src.best_score_)"
   ]
  },
  {
   "cell_type": "code",
   "execution_count": 2,
   "metadata": {},
   "outputs": [
    {
     "name": "stdout",
     "output_type": "stream",
     "text": [
      "best parameters {'criterion': 'squared_error', 'max_depth': 500, 'max_features': 0.33, 'n_estimators': 1000}\n",
      "best score 0.4289083355197888\n",
      "Test score: 0.4435324522943379\n"
     ]
    }
   ],
   "source": [
    "# Grid search of hyperparameters for (Random forest) regressor model \n",
    "# Define estimator \n",
    "\n",
    "randomforest_r = RandomForestRegressor( random_state=123)\n",
    "\n",
    "#define parameter to be searched \n",
    "param_grid = {\n",
    "    'criterion' : ['squared_error'],\n",
    "    'n_estimators': [10,100,1000], \n",
    "    'max_depth' : [1,500,3000],\n",
    "    'max_features' : [ 0.33, 0.66]\n",
    "    }\n",
    "\n",
    "# Instantiation\n",
    "rndm_frst_grid_src = GridSearchCV(estimator = randomforest_r , param_grid=param_grid)\n",
    "\n",
    "# fitting model\n",
    "rndm_frst_grid_src.fit(train_X, train_y)\n",
    "\n",
    "#best parameters \n",
    "print('best parameters', rndm_frst_grid_src.best_params_)\n",
    "#best score\n",
    "print('best score', rndm_frst_grid_src.best_score_)\n",
    "#test score\n",
    "accuracy = rndm_frst_grid_src.score(test_X, test_y)\n",
    "print('Test score:', accuracy)\n"
   ]
  },
  {
   "cell_type": "code",
   "execution_count": null,
   "metadata": {},
   "outputs": [],
   "source": [
    "# Grid search of hyperparameters for (graident boosting) regressor model\n",
    "# Define estimator \n",
    "gb_r = GradientBoostingRegressor(random_state=123)\n",
    "\n",
    "#define parameter to be searched \n",
    "param_grid = {\n",
    "    'criterion' : ['squared_error'] ,\n",
    "    'n_estimators': [100],\n",
    "    'max_depth' : [100],\n",
    "    'max_features' : [0.25]\n",
    "    }\n",
    "\n",
    "# Instantiation\n",
    "gb_r_grid_src = GridSearchCV(estimator = gb_r , param_grid=param_grid)\n",
    "\n",
    "# fitting model\n",
    "gb_r_grid_src.fit(train_X, train_y)\n",
    "\n",
    "print('best parameters',gb_r_grid_src.best_params_)\n",
    "#best score\n",
    "print('best score',gb_r_grid_src.best_score_)"
   ]
  },
  {
   "cell_type": "code",
   "execution_count": null,
   "metadata": {},
   "outputs": [],
   "source": [
    "# Grid search of hyperparameters for (Ada booster) model \n",
    "# Define estimator \n",
    "ada_r = AdaBoostRegressor(random_state=123)\n",
    "\n",
    "#define parameter to be searched \n",
    "param_grid = {\n",
    "    'n_estimators' : [1, 10, 100, 500, 1000,10000], \n",
    "    'learning_rate' : [0.1, 0.5, 1, 2, 5, 10, 100, 1000]\n",
    "    }\n",
    "\n",
    "# Instantiation\n",
    "ada_r_grid_src = GridSearchCV(estimator = ada_r , param_grid=param_grid)\n",
    "\n",
    "# fitting model\n",
    "ada_r_grid_src.fit(train_X, train_y)\n",
    "\n",
    "print('best parameters',ada_r_grid_src.best_params_)\n",
    "#best score\n",
    "print('best score',ada_r_grid_src.best_score_)\n",
    "\n"
   ]
  }
 ],
 "metadata": {
  "kernelspec": {
   "display_name": "Python 3.9.9 64-bit",
   "language": "python",
   "name": "python3"
  },
  "language_info": {
   "codemirror_mode": {
    "name": "ipython",
    "version": 3
   },
   "file_extension": ".py",
   "mimetype": "text/x-python",
   "name": "python",
   "nbconvert_exporter": "python",
   "pygments_lexer": "ipython3",
   "version": "3.9.9 (main, Nov 21 2021, 03:23:42) \n[Clang 13.0.0 (clang-1300.0.29.3)]"
  },
  "orig_nbformat": 4,
  "vscode": {
   "interpreter": {
    "hash": "aee8b7b246df8f9039afb4144a1f6fd8d2ca17a180786b69acc140d282b71a49"
   }
  }
 },
 "nbformat": 4,
 "nbformat_minor": 2
}
